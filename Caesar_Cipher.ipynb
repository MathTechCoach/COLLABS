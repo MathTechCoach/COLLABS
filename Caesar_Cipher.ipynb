{
  "nbformat": 4,
  "nbformat_minor": 0,
  "metadata": {
    "colab": {
      "provenance": [],
      "authorship_tag": "ABX9TyMTCZpeozdV6uRrOAHQJtCs",
      "include_colab_link": true
    },
    "kernelspec": {
      "name": "python3",
      "display_name": "Python 3"
    },
    "language_info": {
      "name": "python"
    }
  },
  "cells": [
    {
      "cell_type": "markdown",
      "metadata": {
        "id": "view-in-github",
        "colab_type": "text"
      },
      "source": [
        "<a href=\"https://colab.research.google.com/github/MathTechCoach/COLLABS/blob/main/Caesar_Cipher.ipynb\" target=\"_parent\"><img src=\"https://colab.research.google.com/assets/colab-badge.svg\" alt=\"Open In Colab\"/></a>"
      ]
    },
    {
      "cell_type": "markdown",
      "source": [
        "Enter your plain text message in the code box below, then hover your mouse over the left side of the code box ands press the \"play\" icon that will appear."
      ],
      "metadata": {
        "id": "5kGTtfHOG024"
      }
    },
    {
      "cell_type": "code",
      "source": [
        "plaintext = \"This is the plaintext message I want to encode.\""
      ],
      "metadata": {
        "id": "JmIboyYbG-xe"
      },
      "execution_count": 1,
      "outputs": []
    },
    {
      "cell_type": "markdown",
      "source": [
        "Enter the value of the number of letters to shift, and press the \"play\" icon as you did above."
      ],
      "metadata": {
        "id": "cPEU9agvHBrv"
      }
    },
    {
      "cell_type": "code",
      "source": [
        "shift = 20"
      ],
      "metadata": {
        "id": "AuHjzoocHGL3"
      },
      "execution_count": 2,
      "outputs": []
    },
    {
      "cell_type": "markdown",
      "source": [
        "The python script below will take your message from above, turn all the letters into upper case, and print out the ciphertext. Note how the variable `letters` has a space as the first character and a period as the second so you can enter a space or a period in your message and they will be shifted."
      ],
      "metadata": {
        "id": "gV6PQjexMLtU"
      }
    },
    {
      "cell_type": "code",
      "source": [
        "letters=\" .ABCDEFGHIJKLMNOPQRSTUVWXYZ\"\n",
        "plaintext = plaintext.upper()\n",
        "ciphertext = \"\"\n",
        "for i in plaintext:\n",
        "  ciphertext += letters[(letters.index(i)+shift)%len(letters)]\n",
        "\n",
        "print(\"Ciphertext message is: \",ciphertext)\n"
      ],
      "metadata": {
        "colab": {
          "base_uri": "https://localhost:8080/"
        },
        "id": "gfsEITtgHInR",
        "outputId": "fa64c9d8-8837-47a0-8cce-ebe4a497fd14"
      },
      "execution_count": 3,
      "outputs": [
        {
          "output_type": "stream",
          "name": "stdout",
          "text": [
            "Ciphertext message is:  L.AKSAKSL.YSHDUAFLYPLSEYKKU YSASOUFLSLGSYFWGXYT\n"
          ]
        }
      ]
    }
  ]
}